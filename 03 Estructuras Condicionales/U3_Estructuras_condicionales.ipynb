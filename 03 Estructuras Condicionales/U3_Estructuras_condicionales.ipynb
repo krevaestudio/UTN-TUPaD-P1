{
  "cells": [
    {
      "cell_type": "markdown",
      "source": [
        "# **ESTRUCTURAS CONDICIONALES**\n"
      ],
      "metadata": {
        "id": "uX4X74Um3dLH"
      }
    },
    {
      "cell_type": "markdown",
      "source": [
        "En Python, los condicionales son estructuras de control que permiten ejecutar diferentes bloques de código dependiendo de si una condición es verdadera o falsa. La instrucción más básica para realizar una evaluación condicional es la sentencia `if`, que evalúa una expresión booleana (es decir, una expresión que puede ser verdadera o falsa) y ejecuta un bloque de código solo si la condición se cumple. Además, se pueden usar otras estructuras como `elif` (abreviatura de \"else if\") y `else` para manejar diferentes casos o situaciones, ofreciendo una mayor flexibilidad en la lógica del programa. Las condicionales son fundamentales para la toma de decisiones en los programas, permitiendo que el flujo de ejecución se ajuste dinámicamente según las circunstancias."
      ],
      "metadata": {
        "id": "d4A5C9rQjqyt"
      }
    },
    {
      "cell_type": "markdown",
      "source": [
        "## **ESTRUCTURA DEL CONDICIONAL**\n",
        "\n",
        "Un condicional en Python debe tener:\n",
        "*   *Sangrías:* es necesario que toda la estructura que va dentro del if tenga sangría ya que en Python no se usan llaves.\n",
        "*   *Doble punto:* significa \"entonces\" y se utiliza luego de las palabras clave.\n",
        "*   *Palabras clave:* if, else, elif.\n",
        "\n",
        "```\n",
        "if (pasa A):\n",
        "    print(\"Pasó A\")\n",
        "else:                   \n",
        "    print(\"No pasó A\")\n",
        "```"
      ],
      "metadata": {
        "id": "LA8b7NR73osN"
      }
    },
    {
      "cell_type": "markdown",
      "metadata": {
        "id": "8gQtkl9vhOzW"
      },
      "source": [
        "<div class=\"alert alert-block alert-danger\">\n",
        "    <center><b>La sangría debe mantenerse constante en python</b>. Si cambia el número de espacios entre líneas sucesivas, encontrará errores. Recomendamos mantener un solo tipo, usar solo tabuladores.</center>\n",
        "</div>"
      ]
    },
    {
      "cell_type": "markdown",
      "metadata": {
        "id": "T-iLX_8IWZbD"
      },
      "source": [
        "## **PALABRAS CLAVE**\n"
      ]
    },
    {
      "cell_type": "markdown",
      "source": [
        "### **if**\n",
        "\n",
        "Significa \"si\". Es la palabra que abre la estructura condicional y sigue con una instrucción de lo que se debe hacer si se cumple la sentencia comenzada con \"if\".\n",
        "\n",
        "Veamos un ejemplo:\n"
      ],
      "metadata": {
        "id": "Hl67Mkz4-Ba8"
      }
    },
    {
      "cell_type": "code",
      "source": [
        "# Definimos las variables a y b\n",
        "a = 10\n",
        "b = 10\n",
        "\n",
        "# Si a es igual a b, imprimir \"a es igual a b\"\n",
        "if a == b:\n",
        "  print(\"a es igual a b\")"
      ],
      "metadata": {
        "colab": {
          "base_uri": "https://localhost:8080/"
        },
        "id": "cta5KIFm-A4I",
        "outputId": "673e2fb7-117c-4442-9131-c8d3955701fa"
      },
      "execution_count": null,
      "outputs": [
        {
          "output_type": "stream",
          "name": "stdout",
          "text": [
            "a es igual a b\n"
          ]
        }
      ]
    },
    {
      "cell_type": "markdown",
      "source": [
        "### **else**\n",
        "\n",
        "Significa \"en otro caso\". Sigue con la instrucción de lo que se debe hacer si no se cumple la sentencia comenzada con \"if\".\n",
        "\n",
        "Veamos un ejemplo:"
      ],
      "metadata": {
        "id": "QZYL_6dZ-Y-g"
      }
    },
    {
      "cell_type": "code",
      "source": [
        "# Definimos las variables a y b\n",
        "a = 10\n",
        "b = 10\n",
        "\n",
        "# Si a es igual a b, imprimir \"a es igual a b\"\n",
        "if a == b:\n",
        "  print(\"a es igual a b\")\n",
        "# En cualquier otro caso, imprimir \"a es distinto de b\"\n",
        "else:\n",
        "  print(\"a es distinto de b\")"
      ],
      "metadata": {
        "id": "bcFBKYh3-gvy"
      },
      "execution_count": null,
      "outputs": []
    },
    {
      "cell_type": "markdown",
      "source": [
        "### **elif**\n",
        "\n",
        "Significa \"sino, si\". Cumple la misma función que el \"if\", pero se utiliza para añadir una segunda condición.\n",
        "\n",
        "Veamos un ejemplo:"
      ],
      "metadata": {
        "id": "9U9WM_sC-o6m"
      }
    },
    {
      "cell_type": "code",
      "source": [
        "# Definimos las variables a y b\n",
        "a = 10\n",
        "b = 10\n",
        "\n",
        "# Si a es menor que b, imprimir \"a es menor que b\"\n",
        "if (a < b):\n",
        "    print(\"a es menor que b\")\n",
        "# Si a es igual que b, imprimir \"a es igual que b\"\n",
        "elif (a == b):\n",
        "    print(\"a es igual que b\")\n",
        "# En cualquier otro caso, imprimir \"a es menor que b\"\n",
        "else:\n",
        "    print(\"b es menor que a\")"
      ],
      "metadata": {
        "colab": {
          "base_uri": "https://localhost:8080/"
        },
        "id": "ofYMmp8WkY8v",
        "outputId": "db932cc3-7577-4159-c2bd-3d30394258b4"
      },
      "execution_count": null,
      "outputs": [
        {
          "output_type": "stream",
          "name": "stdout",
          "text": [
            "a es igual que b\n"
          ]
        }
      ]
    },
    {
      "cell_type": "markdown",
      "source": [
        "### **pass**\n",
        "\n",
        "Se utiliza cuando queremos que el código no haga nada al respecto. Generalmente se usa con else.\n",
        "\n",
        "Veamos un ejemplo:"
      ],
      "metadata": {
        "id": "bwkt8Dd4l2Zf"
      }
    },
    {
      "cell_type": "code",
      "source": [
        "# Pedimos al usuario que ingrese un número entre 0 y 100\n",
        "numero = int(input(\"Por favor ingrese un número entre 0 y 100: \"))\n",
        "\n",
        "# Si el número es menor que 0 o mayor que 100\n",
        "# Imprimir \"Error: Un número entre 0 y 100 fue requerido\"\n",
        "if (numero < 0 or numero > 100):\n",
        "    print(\"Error: Un número entre 0 y 100 fue requerido\")\n",
        "# En cualquier otro caso, no hacer nada\n",
        "else:\n",
        "    pass"
      ],
      "metadata": {
        "colab": {
          "base_uri": "https://localhost:8080/"
        },
        "id": "6ZL71evdld3X",
        "outputId": "2b922fad-8f44-472c-99af-f3768729abc0"
      },
      "execution_count": null,
      "outputs": [
        {
          "name": "stdout",
          "output_type": "stream",
          "text": [
            "Por favor ingrese un número entre 0 y 100: 10\n"
          ]
        }
      ]
    },
    {
      "cell_type": "markdown",
      "metadata": {
        "id": "uvjY5FQFhOzX"
      },
      "source": [
        "## **CONDICIONALES ANIDADOS**\n",
        "\n",
        "Los condicionales anidados son condicionales que se encuentran dentro de otros. Se utilizan para evitar condiciones compuestas y para escribirlos de manera correcta debemos respetar la identación.\n",
        "\n",
        "Por ejemplo: el siguiente código tiene la condición compuesta:\n",
        "\n",
        "\n",
        "```\n",
        "if (se_mueve == \"si\" and deberia_moverse == \"si\") or (deberia_moverse == \"no\" and deberia_moverse == \"no\")\n",
        "```\n",
        "\n"
      ]
    },
    {
      "cell_type": "code",
      "metadata": {
        "id": "lxDLyWpBaQz9",
        "colab": {
          "base_uri": "https://localhost:8080/"
        },
        "outputId": "8fe231f1-0d6b-4c5d-c2f2-01444ddf3531"
      },
      "source": [
        "# Pedimos inputs al usuario preguntando si un objeto se mueve y si debería moverse\n",
        "se_mueve = input(\"¿Se mueve? (si/no \").lower()\n",
        "deberia_moverse = input(\"¿Debería moverse? (si/no) \").lower()\n",
        "\n",
        "# Si el usuario respondió que se mueve y debería moverse\n",
        "# o bien, respondió que no se mueve y no debería moverse\n",
        "# imprimir \"No hay problema\"\n",
        "if (se_mueve == \"si\" and deberia_moverse == \"si\") or (se_mueve == \"no\" and deberia_moverse == \"no\"):\n",
        "    print(\"No hay problema\")\n",
        "# Si el usuario respondió que se mueve y no debería moverse\n",
        "# Imprimir \"Use cinta adhesiva\"\n",
        "elif se_mueve == \"si\" and deberia_moverse == \"no\":\n",
        "    print(\"Use cinta adhesiva\")\n",
        "# En cualquier otro caso, imprimir \"Use aceite WD40\"\n",
        "else:\n",
        "    print(\"Use aceite WD40\")"
      ],
      "execution_count": null,
      "outputs": [
        {
          "output_type": "stream",
          "name": "stdout",
          "text": [
            "Se mueve? si\n",
            "Deberia? si\n",
            "No hay problema\n"
          ]
        }
      ]
    },
    {
      "cell_type": "markdown",
      "source": [
        "El condicional anterior se puede transformar en un condicional anidado para deshacernos de la condición compuesta de la siguiente forma:"
      ],
      "metadata": {
        "id": "_IDCucH8_dT6"
      }
    },
    {
      "cell_type": "code",
      "metadata": {
        "id": "wQWAofkahOzY",
        "colab": {
          "base_uri": "https://localhost:8080/"
        },
        "outputId": "4da1f55f-dd20-410d-da81-72d0465f0bda"
      },
      "source": [
        "# Pedimos inputs al usuario preguntando si un objeto se mueve y si debería moverse\n",
        "respuesta = input(\"Se mueve? \").lower()\n",
        "respuesta_dos = input(\"Deberia? \").lower()\n",
        "\n",
        "# Condicional anidado\n",
        "if respuesta == \"si\":\n",
        "    if respuesta_dos == \"si\":\n",
        "        print(\"No hay problema\")\n",
        "    else:\n",
        "        print(\"Use cinta adhesiva\")\n",
        "else:\n",
        "    if respuesta_dos == \"si\":\n",
        "        print(\"Use aceite WD40\")\n",
        "    else:\n",
        "        print(\"No hay problema\")"
      ],
      "execution_count": null,
      "outputs": [
        {
          "output_type": "stream",
          "name": "stdout",
          "text": [
            "Se mueve? no\n",
            "Deberia? no sé\n",
            "Debe ingresar si o no\n"
          ]
        }
      ]
    },
    {
      "cell_type": "markdown",
      "metadata": {
        "id": "bZUh6oIn0zX9"
      },
      "source": [
        "\n",
        "## **CONDICIONALES TERNARIOS**\n",
        "\n",
        "Son condicionales que se escriben en una sola línea, siguiendo el formato:\n",
        "\n",
        "\n",
        "```\n",
        "print(\"Pasó A\") if (pasa A) else print(\"No pasó A\")\n",
        "```\n",
        "\n"
      ]
    },
    {
      "cell_type": "code",
      "metadata": {
        "colab": {
          "base_uri": "https://localhost:8080/"
        },
        "id": "Ge0YThTz0zX9",
        "outputId": "476bd192-967e-4832-bdef-6e4281d12769"
      },
      "source": [
        "a = 18\n",
        "b = 20\n",
        "print(\"a es menor que b\") if (a < b) else print(\"b es menor que a\")"
      ],
      "execution_count": null,
      "outputs": [
        {
          "output_type": "stream",
          "name": "stdout",
          "text": [
            "a es menor que b\n"
          ]
        }
      ]
    }
  ],
  "metadata": {
    "kernelspec": {
      "display_name": "Python 3",
      "language": "python",
      "name": "python3"
    },
    "language_info": {
      "codemirror_mode": {
        "name": "ipython",
        "version": 3
      },
      "file_extension": ".py",
      "mimetype": "text/x-python",
      "name": "python",
      "nbconvert_exporter": "python",
      "pygments_lexer": "ipython3",
      "version": "3.7.6"
    },
    "colab": {
      "provenance": []
    }
  },
  "nbformat": 4,
  "nbformat_minor": 0
}